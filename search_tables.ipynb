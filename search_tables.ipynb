{
 "cells": [
  {
   "cell_type": "markdown",
   "metadata": {},
   "source": [
    "### Air Cargo Problem Analysis\n",
    "> In this notebook we solve problems 1 through 3 and visually summarize the results. "
   ]
  },
  {
   "cell_type": "markdown",
   "metadata": {},
   "source": [
    "##### Import analysis module\n",
    "> We use `search_data()` and `show_path()` functions from analysis module.\n",
    "\n",
    "> The `search_data()` function searches for a solution and the `show_path()` prints\n",
    "solution steps to screen."
   ]
  },
  {
   "cell_type": "code",
   "execution_count": 1,
   "metadata": {
    "collapsed": true
   },
   "outputs": [],
   "source": [
    "from analysis import search_data, show_path\n",
    "%matplotlib inline"
   ]
  },
  {
   "cell_type": "code",
   "execution_count": 2,
   "metadata": {},
   "outputs": [
    {
     "name": "stdout",
     "output_type": "stream",
     "text": [
      " Perform test to solve cargo planning problem with\n",
      "        the given search algorithms.\n",
      "\n",
      "        Paremeters:\n",
      "        ----------\n",
      "        problem_id: int\n",
      "            Cargo planning problem id\n",
      "        \n",
      "        s_choices: list\n",
      "            List of the search algorithm to try.\n",
      "\n",
      "        Returns:\n",
      "        ----------\n",
      "        Returns tuple of two items:\n",
      "            1 = DataFrame that summarizes test result\n",
      "            2 = A list of tuples, where the first item in the \n",
      "                tuple is the search algorithm name and the second\n",
      "                is its corresponding search Node object.\n",
      "    \n"
     ]
    }
   ],
   "source": [
    "print(search_data.__doc__)"
   ]
  },
  {
   "cell_type": "code",
   "execution_count": 3,
   "metadata": {},
   "outputs": [
    {
     "name": "stdout",
     "output_type": "stream",
     "text": [
      "\n",
      "        Print solution set to screen\n",
      "\n",
      "        Paremeter\n",
      "        ----------\n",
      "        node: Node\n",
      "            Search tree object that has 'solution()' method \n",
      "    \n"
     ]
    }
   ],
   "source": [
    "print(show_path.__doc__)"
   ]
  },
  {
   "cell_type": "markdown",
   "metadata": {},
   "source": [
    "#### Search Functions Names\n",
    "\n",
    "- 1) Breadth First \n",
    "- 2) Breadth First Tree \n",
    "- 3) Depth First Graph \n",
    "- 4) Depth Limited \n",
    "- 5) Uniform Cost\n",
    "- 6) Recursive Best First w/ h1  \n",
    "- 7) Greedy Best First Graph w/ h1 \n",
    "- 8) Astar w/ h1 \n",
    "- 9) Astar w/ ignore pre-cond. \n",
    "- 10) Astar w/ level-sum "
   ]
  },
  {
   "cell_type": "markdown",
   "metadata": {},
   "source": [
    "#### Problem 1 Solution Search"
   ]
  },
  {
   "cell_type": "code",
   "execution_count": 4,
   "metadata": {},
   "outputs": [
    {
     "name": "stdout",
     "output_type": "stream",
     "text": [
      "\n",
      "Solving Air Cargo Problem 1 using Breadth First start time 2018-08-27 01:48:47PM...\n",
      "\n",
      "Solving Air Cargo Problem 1 using Breadth First Tree start time 2018-08-27 01:48:47PM...\n",
      "\n",
      "Solving Air Cargo Problem 1 using Depth First Graph start time 2018-08-27 01:48:48PM...\n",
      "\n",
      "Solving Air Cargo Problem 1 using Depth Limited start time 2018-08-27 01:48:48PM...\n",
      "\n",
      "Solving Air Cargo Problem 1 using Uniform Cost start time 2018-08-27 01:48:49PM...\n",
      "\n",
      "Solving Air Cargo Problem 1 using Recursive Best First w/ h1 start time 2018-08-27 01:48:49PM...\n",
      "\n",
      "Solving Air Cargo Problem 1 using Greedy Best First Graph w/ h1 start time 2018-08-27 01:48:51PM...\n",
      "\n",
      "Solving Air Cargo Problem 1 using Astar w/ h1 start time 2018-08-27 01:48:51PM...\n",
      "\n",
      "Solving Air Cargo Problem 1 using Astar w/ ignore pre-cond. start time 2018-08-27 01:48:51PM...\n",
      "\n",
      "Solving Air Cargo Problem 1 using Astar w/ level-sum start time 2018-08-27 01:48:51PM...\n"
     ]
    }
   ],
   "source": [
    "problem1_data, nodes1 = search_data(1,range(1,11))"
   ]
  },
  {
   "cell_type": "code",
   "execution_count": 5,
   "metadata": {},
   "outputs": [
    {
     "data": {
      "text/html": [
       "<div>\n",
       "<table border=\"1\" class=\"dataframe\">\n",
       "  <thead>\n",
       "    <tr style=\"text-align: right;\">\n",
       "      <th></th>\n",
       "      <th>Function Name</th>\n",
       "      <th>Solution Steps</th>\n",
       "      <th>Expansions</th>\n",
       "      <th>Goal Tests</th>\n",
       "      <th>New_Nodes</th>\n",
       "      <th>Elapsed Seconds</th>\n",
       "    </tr>\n",
       "  </thead>\n",
       "  <tbody>\n",
       "    <tr>\n",
       "      <th>1</th>\n",
       "      <td>Breadth First</td>\n",
       "      <td>6</td>\n",
       "      <td>43</td>\n",
       "      <td>56</td>\n",
       "      <td>180</td>\n",
       "      <td>0.044939</td>\n",
       "    </tr>\n",
       "    <tr>\n",
       "      <th>2</th>\n",
       "      <td>Breadth First Tree</td>\n",
       "      <td>6</td>\n",
       "      <td>1458</td>\n",
       "      <td>1459</td>\n",
       "      <td>5960</td>\n",
       "      <td>0.942462</td>\n",
       "    </tr>\n",
       "    <tr>\n",
       "      <th>3</th>\n",
       "      <td>Depth First Graph</td>\n",
       "      <td>12</td>\n",
       "      <td>12</td>\n",
       "      <td>13</td>\n",
       "      <td>48</td>\n",
       "      <td>0.006860</td>\n",
       "    </tr>\n",
       "    <tr>\n",
       "      <th>4</th>\n",
       "      <td>Depth Limited</td>\n",
       "      <td>50</td>\n",
       "      <td>101</td>\n",
       "      <td>271</td>\n",
       "      <td>414</td>\n",
       "      <td>0.113649</td>\n",
       "    </tr>\n",
       "    <tr>\n",
       "      <th>5</th>\n",
       "      <td>Uniform Cost</td>\n",
       "      <td>6</td>\n",
       "      <td>55</td>\n",
       "      <td>57</td>\n",
       "      <td>224</td>\n",
       "      <td>0.032331</td>\n",
       "    </tr>\n",
       "    <tr>\n",
       "      <th>6</th>\n",
       "      <td>Recursive Best First w/ h1</td>\n",
       "      <td>6</td>\n",
       "      <td>4229</td>\n",
       "      <td>4230</td>\n",
       "      <td>17029</td>\n",
       "      <td>2.451461</td>\n",
       "    </tr>\n",
       "    <tr>\n",
       "      <th>7</th>\n",
       "      <td>Greedy Best First Graph w/ h1</td>\n",
       "      <td>6</td>\n",
       "      <td>7</td>\n",
       "      <td>9</td>\n",
       "      <td>28</td>\n",
       "      <td>0.004516</td>\n",
       "    </tr>\n",
       "    <tr>\n",
       "      <th>8</th>\n",
       "      <td>Astar w/ h1</td>\n",
       "      <td>6</td>\n",
       "      <td>55</td>\n",
       "      <td>57</td>\n",
       "      <td>224</td>\n",
       "      <td>0.032781</td>\n",
       "    </tr>\n",
       "    <tr>\n",
       "      <th>9</th>\n",
       "      <td>Astar w/ ignore pre-cond.</td>\n",
       "      <td>6</td>\n",
       "      <td>41</td>\n",
       "      <td>43</td>\n",
       "      <td>170</td>\n",
       "      <td>0.045378</td>\n",
       "    </tr>\n",
       "    <tr>\n",
       "      <th>10</th>\n",
       "      <td>Astar w/ level-sum</td>\n",
       "      <td>6</td>\n",
       "      <td>11</td>\n",
       "      <td>13</td>\n",
       "      <td>50</td>\n",
       "      <td>0.597109</td>\n",
       "    </tr>\n",
       "  </tbody>\n",
       "</table>\n",
       "</div>"
      ],
      "text/plain": [
       "                    Function Name  Solution Steps  Expansions  Goal Tests  \\\n",
       "1                   Breadth First               6          43          56   \n",
       "2              Breadth First Tree               6        1458        1459   \n",
       "3               Depth First Graph              12          12          13   \n",
       "4                   Depth Limited              50         101         271   \n",
       "5                    Uniform Cost               6          55          57   \n",
       "6      Recursive Best First w/ h1               6        4229        4230   \n",
       "7   Greedy Best First Graph w/ h1               6           7           9   \n",
       "8                     Astar w/ h1               6          55          57   \n",
       "9       Astar w/ ignore pre-cond.               6          41          43   \n",
       "10             Astar w/ level-sum               6          11          13   \n",
       "\n",
       "    New_Nodes  Elapsed Seconds  \n",
       "1         180         0.044939  \n",
       "2        5960         0.942462  \n",
       "3          48         0.006860  \n",
       "4         414         0.113649  \n",
       "5         224         0.032331  \n",
       "6       17029         2.451461  \n",
       "7          28         0.004516  \n",
       "8         224         0.032781  \n",
       "9         170         0.045378  \n",
       "10         50         0.597109  "
      ]
     },
     "execution_count": 5,
     "metadata": {},
     "output_type": "execute_result"
    }
   ],
   "source": [
    "problem1_data"
   ]
  },
  {
   "cell_type": "code",
   "execution_count": 6,
   "metadata": {},
   "outputs": [
    {
     "name": "stdout",
     "output_type": "stream",
     "text": [
      "Search function Greedy Best First Graph w/ h1 plan length: 6 \n",
      "Load(C1, P1, SFO)\n",
      "Load(C2, P2, JFK)\n",
      "Fly(P1, SFO, JFK)\n",
      "Fly(P2, JFK, SFO)\n",
      "Unload(C1, P1, JFK)\n",
      "Unload(C2, P2, SFO)\n"
     ]
    }
   ],
   "source": [
    "show_path(nodes1[6])"
   ]
  },
  {
   "cell_type": "code",
   "execution_count": 7,
   "metadata": {},
   "outputs": [
    {
     "data": {
      "image/png": "[encoded data removed]",
      "text/plain": [
       "<matplotlib.figure.Figure at 0x27ab70abc50>"
      ]
     },
     "metadata": {},
     "output_type": "display_data"
    }
   ],
   "source": [
    "_ = problem1_data.plot(kind='barh' ,x='Function Name', y='Expansions')"
   ]
  },
  {
   "cell_type": "code",
   "execution_count": 8,
   "metadata": {},
   "outputs": [
    {
     "data": {
      "image/png": "[encoded data removed]",
      "text/plain": [
       "<matplotlib.figure.Figure at 0x27ab6faa3c8>"
      ]
     },
     "metadata": {},
     "output_type": "display_data"
    }
   ],
   "source": [
    "_ = problem1_data.plot(kind='barh' ,x='Function Name', y='Solution Steps')"
   ]
  },
  {
   "cell_type": "markdown",
   "metadata": {},
   "source": [
    "#### Problem 2 Solution Search"
   ]
  },
  {
   "cell_type": "code",
   "execution_count": 9,
   "metadata": {},
   "outputs": [
    {
     "name": "stdout",
     "output_type": "stream",
     "text": [
      "\n",
      "Solving Air Cargo Problem 2 using Breadth First start time 2018-08-27 01:48:52PM...\n",
      "\n",
      "Solving Air Cargo Problem 2 using Depth First Graph start time 2018-08-27 01:49:00PM...\n",
      "\n",
      "Solving Air Cargo Problem 2 using Uniform Cost start time 2018-08-27 01:49:03PM...\n",
      "\n",
      "Solving Air Cargo Problem 2 using Greedy Best First Graph w/ h1 start time 2018-08-27 01:49:14PM...\n",
      "\n",
      "Solving Air Cargo Problem 2 using Astar w/ h1 start time 2018-08-27 01:49:16PM...\n",
      "\n",
      "Solving Air Cargo Problem 2 using Astar w/ ignore pre-cond. start time 2018-08-27 01:49:28PM...\n",
      "\n",
      "Solving Air Cargo Problem 2 using Astar w/ level-sum start time 2018-08-27 01:49:32PM...\n"
     ]
    }
   ],
   "source": [
    "problem2_data, nodes2 = search_data(2,[1,3,5,7,8,9,10])"
   ]
  },
  {
   "cell_type": "code",
   "execution_count": 10,
   "metadata": {},
   "outputs": [
    {
     "data": {
      "text/html": [
       "<div>\n",
       "<table border=\"1\" class=\"dataframe\">\n",
       "  <thead>\n",
       "    <tr style=\"text-align: right;\">\n",
       "      <th></th>\n",
       "      <th>Function Name</th>\n",
       "      <th>Solution Steps</th>\n",
       "      <th>Expansions</th>\n",
       "      <th>Goal Tests</th>\n",
       "      <th>New_Nodes</th>\n",
       "      <th>Elapsed Seconds</th>\n",
       "    </tr>\n",
       "  </thead>\n",
       "  <tbody>\n",
       "    <tr>\n",
       "      <th>1</th>\n",
       "      <td>Breadth First</td>\n",
       "      <td>9</td>\n",
       "      <td>3343</td>\n",
       "      <td>4609</td>\n",
       "      <td>30509</td>\n",
       "      <td>7.650436</td>\n",
       "    </tr>\n",
       "    <tr>\n",
       "      <th>2</th>\n",
       "      <td>Depth First Graph</td>\n",
       "      <td>575</td>\n",
       "      <td>582</td>\n",
       "      <td>583</td>\n",
       "      <td>5211</td>\n",
       "      <td>2.802844</td>\n",
       "    </tr>\n",
       "    <tr>\n",
       "      <th>3</th>\n",
       "      <td>Uniform Cost</td>\n",
       "      <td>9</td>\n",
       "      <td>4853</td>\n",
       "      <td>4855</td>\n",
       "      <td>44041</td>\n",
       "      <td>11.203868</td>\n",
       "    </tr>\n",
       "    <tr>\n",
       "      <th>4</th>\n",
       "      <td>Greedy Best First Graph w/ h1</td>\n",
       "      <td>21</td>\n",
       "      <td>998</td>\n",
       "      <td>1000</td>\n",
       "      <td>8982</td>\n",
       "      <td>2.235381</td>\n",
       "    </tr>\n",
       "    <tr>\n",
       "      <th>5</th>\n",
       "      <td>Astar w/ h1</td>\n",
       "      <td>9</td>\n",
       "      <td>4853</td>\n",
       "      <td>4855</td>\n",
       "      <td>44041</td>\n",
       "      <td>11.566661</td>\n",
       "    </tr>\n",
       "    <tr>\n",
       "      <th>6</th>\n",
       "      <td>Astar w/ ignore pre-cond.</td>\n",
       "      <td>9</td>\n",
       "      <td>1450</td>\n",
       "      <td>1452</td>\n",
       "      <td>13303</td>\n",
       "      <td>4.486422</td>\n",
       "    </tr>\n",
       "    <tr>\n",
       "      <th>7</th>\n",
       "      <td>Astar w/ level-sum</td>\n",
       "      <td>9</td>\n",
       "      <td>86</td>\n",
       "      <td>88</td>\n",
       "      <td>841</td>\n",
       "      <td>54.272250</td>\n",
       "    </tr>\n",
       "  </tbody>\n",
       "</table>\n",
       "</div>"
      ],
      "text/plain": [
       "                   Function Name  Solution Steps  Expansions  Goal Tests  \\\n",
       "1                  Breadth First               9        3343        4609   \n",
       "2              Depth First Graph             575         582         583   \n",
       "3                   Uniform Cost               9        4853        4855   \n",
       "4  Greedy Best First Graph w/ h1              21         998        1000   \n",
       "5                    Astar w/ h1               9        4853        4855   \n",
       "6      Astar w/ ignore pre-cond.               9        1450        1452   \n",
       "7             Astar w/ level-sum               9          86          88   \n",
       "\n",
       "   New_Nodes  Elapsed Seconds  \n",
       "1      30509         7.650436  \n",
       "2       5211         2.802844  \n",
       "3      44041        11.203868  \n",
       "4       8982         2.235381  \n",
       "5      44041        11.566661  \n",
       "6      13303         4.486422  \n",
       "7        841        54.272250  "
      ]
     },
     "execution_count": 10,
     "metadata": {},
     "output_type": "execute_result"
    }
   ],
   "source": [
    "problem2_data"
   ]
  },
  {
   "cell_type": "code",
   "execution_count": 11,
   "metadata": {},
   "outputs": [
    {
     "name": "stdout",
     "output_type": "stream",
     "text": [
      "Search function Astar w/ ignore pre-cond. plan length: 9 \n",
      "Load(C3, P3, ATL)\n",
      "Fly(P3, ATL, SFO)\n",
      "Unload(C3, P3, SFO)\n",
      "Load(C2, P2, JFK)\n",
      "Fly(P2, JFK, SFO)\n",
      "Unload(C2, P2, SFO)\n",
      "Load(C1, P1, SFO)\n",
      "Fly(P1, SFO, JFK)\n",
      "Unload(C1, P1, JFK)\n"
     ]
    }
   ],
   "source": [
    "#astar with ignore pre conditins\n",
    "show_path(nodes2[5])"
   ]
  },
  {
   "cell_type": "code",
   "execution_count": 12,
   "metadata": {},
   "outputs": [
    {
     "data": {
      "image/png": "[encoded data removed]",
      "text/plain": [
       "<matplotlib.figure.Figure at 0x27ab93c3438>"
      ]
     },
     "metadata": {},
     "output_type": "display_data"
    }
   ],
   "source": [
    "_ = problem2_data.plot(kind='barh' ,x='Function Name', y='Expansions')"
   ]
  },
  {
   "cell_type": "code",
   "execution_count": 13,
   "metadata": {
    "scrolled": true
   },
   "outputs": [
    {
     "data": {
      "image/png": "[encoded data removed]",
      "text/plain": [
       "<matplotlib.figure.Figure at 0x27ab7858048>"
      ]
     },
     "metadata": {},
     "output_type": "display_data"
    }
   ],
   "source": [
    "_ = problem2_data.plot(kind='barh' ,x='Function Name', y='Solution Steps')"
   ]
  },
  {
   "cell_type": "markdown",
   "metadata": {},
   "source": [
    "#### Problem 3 Solution Search"
   ]
  },
  {
   "cell_type": "code",
   "execution_count": 14,
   "metadata": {},
   "outputs": [
    {
     "name": "stdout",
     "output_type": "stream",
     "text": [
      "\n",
      "Solving Air Cargo Problem 3 using Breadth First start time 2018-08-27 01:50:27PM...\n",
      "\n",
      "Solving Air Cargo Problem 3 using Depth First Graph start time 2018-08-27 01:51:08PM...\n",
      "\n",
      "Solving Air Cargo Problem 3 using Uniform Cost start time 2018-08-27 01:51:12PM...\n",
      "\n",
      "Solving Air Cargo Problem 3 using Greedy Best First Graph w/ h1 start time 2018-08-27 01:52:04PM...\n",
      "\n",
      "Solving Air Cargo Problem 3 using Astar w/ h1 start time 2018-08-27 01:52:20PM...\n",
      "\n",
      "Solving Air Cargo Problem 3 using Astar w/ ignore pre-cond. start time 2018-08-27 01:53:10PM...\n",
      "\n",
      "Solving Air Cargo Problem 3 using Astar w/ level-sum start time 2018-08-27 01:53:27PM...\n"
     ]
    }
   ],
   "source": [
    "problem3_data, nodes3 = search_data(3,[1,3,5,7,8,9,10])"
   ]
  },
  {
   "cell_type": "code",
   "execution_count": 15,
   "metadata": {},
   "outputs": [
    {
     "data": {
      "text/html": [
       "<div>\n",
       "<table border=\"1\" class=\"dataframe\">\n",
       "  <thead>\n",
       "    <tr style=\"text-align: right;\">\n",
       "      <th></th>\n",
       "      <th>Function Name</th>\n",
       "      <th>Solution Steps</th>\n",
       "      <th>Expansions</th>\n",
       "      <th>Goal Tests</th>\n",
       "      <th>New_Nodes</th>\n",
       "      <th>Elapsed Seconds</th>\n",
       "    </tr>\n",
       "  </thead>\n",
       "  <tbody>\n",
       "    <tr>\n",
       "      <th>1</th>\n",
       "      <td>Breadth First</td>\n",
       "      <td>12</td>\n",
       "      <td>14663</td>\n",
       "      <td>18098</td>\n",
       "      <td>129631</td>\n",
       "      <td>40.950965</td>\n",
       "    </tr>\n",
       "    <tr>\n",
       "      <th>2</th>\n",
       "      <td>Depth First Graph</td>\n",
       "      <td>596</td>\n",
       "      <td>627</td>\n",
       "      <td>628</td>\n",
       "      <td>5176</td>\n",
       "      <td>3.437929</td>\n",
       "    </tr>\n",
       "    <tr>\n",
       "      <th>3</th>\n",
       "      <td>Uniform Cost</td>\n",
       "      <td>12</td>\n",
       "      <td>18223</td>\n",
       "      <td>18225</td>\n",
       "      <td>159618</td>\n",
       "      <td>52.598583</td>\n",
       "    </tr>\n",
       "    <tr>\n",
       "      <th>4</th>\n",
       "      <td>Greedy Best First Graph w/ h1</td>\n",
       "      <td>22</td>\n",
       "      <td>5578</td>\n",
       "      <td>5580</td>\n",
       "      <td>49150</td>\n",
       "      <td>15.707169</td>\n",
       "    </tr>\n",
       "    <tr>\n",
       "      <th>5</th>\n",
       "      <td>Astar w/ h1</td>\n",
       "      <td>12</td>\n",
       "      <td>18223</td>\n",
       "      <td>18225</td>\n",
       "      <td>159618</td>\n",
       "      <td>50.415847</td>\n",
       "    </tr>\n",
       "    <tr>\n",
       "      <th>6</th>\n",
       "      <td>Astar w/ ignore pre-cond.</td>\n",
       "      <td>12</td>\n",
       "      <td>5040</td>\n",
       "      <td>5042</td>\n",
       "      <td>44944</td>\n",
       "      <td>16.469685</td>\n",
       "    </tr>\n",
       "    <tr>\n",
       "      <th>7</th>\n",
       "      <td>Astar w/ level-sum</td>\n",
       "      <td>12</td>\n",
       "      <td>325</td>\n",
       "      <td>327</td>\n",
       "      <td>3002</td>\n",
       "      <td>243.639970</td>\n",
       "    </tr>\n",
       "  </tbody>\n",
       "</table>\n",
       "</div>"
      ],
      "text/plain": [
       "                   Function Name  Solution Steps  Expansions  Goal Tests  \\\n",
       "1                  Breadth First              12       14663       18098   \n",
       "2              Depth First Graph             596         627         628   \n",
       "3                   Uniform Cost              12       18223       18225   \n",
       "4  Greedy Best First Graph w/ h1              22        5578        5580   \n",
       "5                    Astar w/ h1              12       18223       18225   \n",
       "6      Astar w/ ignore pre-cond.              12        5040        5042   \n",
       "7             Astar w/ level-sum              12         325         327   \n",
       "\n",
       "   New_Nodes  Elapsed Seconds  \n",
       "1     129631        40.950965  \n",
       "2       5176         3.437929  \n",
       "3     159618        52.598583  \n",
       "4      49150        15.707169  \n",
       "5     159618        50.415847  \n",
       "6      44944        16.469685  \n",
       "7       3002       243.639970  "
      ]
     },
     "execution_count": 15,
     "metadata": {},
     "output_type": "execute_result"
    }
   ],
   "source": [
    "problem3_data"
   ]
  },
  {
   "cell_type": "code",
   "execution_count": 16,
   "metadata": {},
   "outputs": [
    {
     "name": "stdout",
     "output_type": "stream",
     "text": [
      "Search function Astar w/ ignore pre-cond. plan length: 12 \n",
      "Load(C2, P2, JFK)\n",
      "Fly(P2, JFK, ORD)\n",
      "Load(C4, P2, ORD)\n",
      "Fly(P2, ORD, SFO)\n",
      "Unload(C4, P2, SFO)\n",
      "Load(C1, P1, SFO)\n",
      "Fly(P1, SFO, ATL)\n",
      "Load(C3, P1, ATL)\n",
      "Fly(P1, ATL, JFK)\n",
      "Unload(C3, P1, JFK)\n",
      "Unload(C2, P2, SFO)\n",
      "Unload(C1, P1, JFK)\n"
     ]
    }
   ],
   "source": [
    "#astar with ignore pre conditins\n",
    "show_path(nodes3[5])"
   ]
  },
  {
   "cell_type": "code",
   "execution_count": 17,
   "metadata": {},
   "outputs": [
    {
     "data": {
      "image/png": "[encoded data removed]",
      "text/plain": [
       "<matplotlib.figure.Figure at 0x27ab91aada0>"
      ]
     },
     "metadata": {},
     "output_type": "display_data"
    }
   ],
   "source": [
    "_ = problem3_data.plot(kind='barh' ,x='Function Name', y='Expansions')"
   ]
  },
  {
   "cell_type": "code",
   "execution_count": 18,
   "metadata": {},
   "outputs": [
    {
     "data": {
      "image/png": "[encoded data removed]",
      "text/plain": [
       "<matplotlib.figure.Figure at 0x27ab74e7c18>"
      ]
     },
     "metadata": {},
     "output_type": "display_data"
    }
   ],
   "source": [
    "_ = problem3_data.plot(kind='barh' ,x='Function Name', y='Solution Steps')"
   ]
  }
 ],
 "metadata": {
  "kernelspec": {
   "display_name": "Python [conda env:aind]",
   "language": "python",
   "name": "conda-env-aind-py"
  },
  "language_info": {
   "codemirror_mode": {
    "name": "ipython",
    "version": 3
   },
   "file_extension": ".py",
   "mimetype": "text/x-python",
   "name": "python",
   "nbconvert_exporter": "python",
   "pygments_lexer": "ipython3",
   "version": "3.6.6"
  }
 },
 "nbformat": 4,
 "nbformat_minor": 2
}
